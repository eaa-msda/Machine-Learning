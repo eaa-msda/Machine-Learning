{
  "nbformat": 4,
  "nbformat_minor": 0,
  "metadata": {
    "colab": {
      "provenance": []
    },
    "kernelspec": {
      "name": "python3",
      "display_name": "Python 3"
    },
    "language_info": {
      "name": "python"
    }
  },
  "cells": [
    {
      "cell_type": "code",
      "execution_count": null,
      "metadata": {
        "id": "RRhKY7eTu57p"
      },
      "outputs": [],
      "source": [
        "# Errol Ian Ave Acosta\n",
        "# CGPT | Google Colab\n",
        "# Data Science with Python\n",
        "# February 15, 2025\n",
        "\n",
        "# Target Variable = suscribed-term-deposited\n",
        "\n",
        "# This template covers end-to-end ML workflow 🚀\n",
        "# from data loading, preprocessing, model training, evaluation, and saving models."
      ]
    },
    {
      "cell_type": "code",
      "source": [
        "# Mount Google Drive\n",
        "from google.colab import drive\n",
        "drive.mount('/content/drive')"
      ],
      "metadata": {
        "id": "ifG-aV0CwKtP"
      },
      "execution_count": null,
      "outputs": []
    },
    {
      "cell_type": "code",
      "source": [
        "#Import Libraries\n",
        "import pandas as pd\n",
        "import numpy as np\n",
        "import matplotlib.pyplot as plt\n",
        "import seaborn as sns\n",
        "\n",
        "from sklearn.model_selection import train_test_split\n",
        "from sklearn.preprocessing import StandardScaler, LabelEncoder\n",
        "from sklearn.metrics import accuracy_score, confusion_matrix, classification_report\n",
        "from sklearn.linear_model import LogisticRegression\n",
        "from sklearn.ensemble import RandomForestClassifier\n",
        "from sklearn.svm import SVC"
      ],
      "metadata": {
        "id": "15S-6NPOwXZG"
      },
      "execution_count": null,
      "outputs": []
    },
    {
      "cell_type": "code",
      "source": [
        "# Load Dataset\n",
        "df = pd.read_csv('/content/bank-marketing.csv')"
      ],
      "metadata": {
        "id": "gq_bnBNXwdc3"
      },
      "execution_count": null,
      "outputs": []
    },
    {
      "cell_type": "code",
      "source": [
        "# Data Preprocessing\n",
        "# Check for missing values\n",
        "df.isnull().sum()\n",
        "\n",
        "# Handle missing values (replace '?' with NaN and then drop or fill them)\n",
        "df.replace('?', np.nan, inplace=True)\n",
        "df.dropna(inplace=True)  # Drop missing values or use df.fillna(value, inplace=True)\n",
        "\n",
        "# Encode categorical variables\n",
        "from sklearn.preprocessing import LabelEncoder\n",
        "\n",
        "labelencoder = LabelEncoder()\n",
        "\n",
        "# Apply label encoding to all object (categorical) columns\n",
        "for col in df.select_dtypes(include='object').columns:\n",
        "    df[col] = labelencoder.fit_transform(df[col])\n",
        "\n",
        "# Define features and target variable\n",
        "X = df.drop('suscribed-term-deposited', axis=1)  # Features\n",
        "y = df['suscribed-term-deposited']               # Target variable"
      ],
      "metadata": {
        "id": "sHJd2KJvwn4E"
      },
      "execution_count": null,
      "outputs": []
    },
    {
      "cell_type": "code",
      "source": [
        "# Train-Test Split\n",
        "X_train, X_test, y_train, y_test = train_test_split(X, y, test_size=0.3, random_state=42)"
      ],
      "metadata": {
        "id": "pftyq-r2w0AF"
      },
      "execution_count": null,
      "outputs": []
    },
    {
      "cell_type": "code",
      "source": [
        "# Feature Scaling\n",
        "scaler = StandardScaler()\n",
        "X_train = scaler.fit_transform(X_train)\n",
        "X_test = scaler.transform(X_test)"
      ],
      "metadata": {
        "id": "SxOYph9Fw5O7"
      },
      "execution_count": null,
      "outputs": []
    },
    {
      "cell_type": "code",
      "source": [
        "# Model Training\n",
        "# Logistic Regression\n",
        "log_model = LogisticRegression()\n",
        "log_model.fit(X_train, y_train)\n",
        "log_preds = log_model.predict(X_test)"
      ],
      "metadata": {
        "id": "sUkGjBNyw77r"
      },
      "execution_count": null,
      "outputs": []
    },
    {
      "cell_type": "code",
      "source": [
        "# Random Forest Classifier\n",
        "rf_model = RandomForestClassifier()\n",
        "rf_model.fit(X_train, y_train)\n",
        "rf_preds = rf_model.predict(X_test)"
      ],
      "metadata": {
        "id": "0njEnb8NxDME"
      },
      "execution_count": null,
      "outputs": []
    },
    {
      "cell_type": "code",
      "source": [
        "# Support Vector Machine\n",
        "svc_model = SVC()\n",
        "svc_model.fit(X_train, y_train)\n",
        "svc_preds = svc_model.predict(X_test)"
      ],
      "metadata": {
        "id": "iFMmy6yWxKOY"
      },
      "execution_count": null,
      "outputs": []
    },
    {
      "cell_type": "code",
      "source": [
        "# Model Evaluation\n",
        "print(accuracy_score(y_test, log_preds))           # Accuracy\n",
        "print(confusion_matrix(y_test, log_preds))         # Confusion Matrix\n",
        "print(classification_report(y_test, log_preds))    # Classification Report"
      ],
      "metadata": {
        "id": "i5QZkCLWxRQJ"
      },
      "execution_count": null,
      "outputs": []
    },
    {
      "cell_type": "code",
      "source": [
        "# Save Trained Model\n",
        "import joblib\n",
        "joblib.dump(log_model, '/content/drive/My Drive/log_model.pkl')"
      ],
      "metadata": {
        "id": "chO6Hi-QxVV3"
      },
      "execution_count": null,
      "outputs": []
    },
    {
      "cell_type": "code",
      "source": [
        "# Load Trained Model Later\n",
        "loaded_model = joblib.load('/content/drive/My Drive/log_model.pkl')\n",
        "predictions = loaded_model.predict(X_test)"
      ],
      "metadata": {
        "id": "gxYaolkOxb98"
      },
      "execution_count": null,
      "outputs": []
    },
    {
      "cell_type": "code",
      "source": [
        "# Visualization Outputs\n",
        "# Confusion Matrix Heatmap\n",
        "from sklearn.metrics import confusion_matrix\n",
        "import seaborn as sns\n",
        "import matplotlib.pyplot as plt\n",
        "\n",
        "cm = confusion_matrix(y_test, predictions)\n",
        "plt.figure(figsize=(6,4))\n",
        "sns.heatmap(cm, annot=True, fmt=\"d\", cmap=\"Blues\", xticklabels=['No', 'Yes'], yticklabels=['No', 'Yes'])\n",
        "plt.xlabel('Predicted')\n",
        "plt.ylabel('Actual')\n",
        "plt.title('Confusion Matrix')\n",
        "plt.show()"
      ],
      "metadata": {
        "id": "Epb1esx3z9Hs"
      },
      "execution_count": null,
      "outputs": []
    },
    {
      "cell_type": "code",
      "source": [
        "# ROC Curve\n",
        "from sklearn.metrics import roc_curve, roc_auc_score\n",
        "# Replace 'model' with the desired trained model (e.g., log_model, rf_model, or svc_model)\n",
        "fpr, tpr, thresholds = roc_curve(y_test, log_model.predict_proba(X_test)[:,1])  # Using log_model as an example\n",
        "plt.figure(figsize=(6,4))\n",
        "plt.plot(fpr, tpr, label=\"AUC = {:.3f}\".format(roc_auc_score(y_test, predictions)))\n",
        "plt.plot([0, 1], [0, 1], linestyle='--')\n",
        "plt.xlabel('False Positive Rate')\n",
        "plt.ylabel('True Positive Rate')\n",
        "plt.title('ROC Curve')\n",
        "plt.legend()\n",
        "plt.show()"
      ],
      "metadata": {
        "id": "_MztK_WD0ctx"
      },
      "execution_count": null,
      "outputs": []
    },
    {
      "cell_type": "code",
      "source": [
        "# Feature Importance (for tree based models)\n",
        "# Replace 'model' with the desired trained model (e.g., log_model, rf_model, or svc_model)\n",
        "model = rf_model  # Using rf_model (RandomForestClassifier) as an example\n",
        "feature_importances = pd.Series(model.feature_importances_, index=X.columns)\n",
        "feature_importances.nlargest(10).plot(kind='barh')\n",
        "plt.title('Top 10 Feature Importances')\n",
        "plt.show()"
      ],
      "metadata": {
        "id": "kUPmSLY904XG"
      },
      "execution_count": null,
      "outputs": []
    }
  ]
}